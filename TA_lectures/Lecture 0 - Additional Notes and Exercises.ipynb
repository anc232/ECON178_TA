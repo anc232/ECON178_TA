{
 "cells": [
  {
   "cell_type": "markdown",
   "metadata": {},
   "source": [
    "### Lecture 0 : Additional Notes and Exercises\n",
    "\n",
    "In this set of notes we complement the previous notes with what discussed in class. "
   ]
  },
  {
   "cell_type": "markdown",
   "metadata": {},
   "source": [
    "### Additional Syntax\n",
    "\n"
   ]
  },
  {
   "cell_type": "markdown",
   "metadata": {},
   "source": [
    "### List, Data frame and Matrix\n",
    "\n",
    "In R data can be saved as matrix, data frame and list\n",
    "\n",
    "- A data frame is a special type of list: each column can have different values (example be a number or a string).  Let's see an example"
   ]
  },
  {
   "cell_type": "code",
   "execution_count": 10,
   "metadata": {},
   "outputs": [
    {
     "name": "stdout",
     "output_type": "stream",
     "text": [
      "  V1 V2 V3\n",
      "1  u  4  7\n",
      "2  c  5  8\n",
      "3 sd  6  9\n"
     ]
    }
   ],
   "source": [
    "A <- matrix(c(1:9), nrow = 3, ncol = 3)\n",
    "## Transform A into a data frame\n",
    "A <- as.data.frame(A)\n",
    "names(A) <- c('V1', 'V2', 'V3')\n",
    "A[,1] <- c('u', 'c', 'sd')\n",
    "print(A)"
   ]
  },
  {
   "cell_type": "markdown",
   "metadata": {},
   "source": [
    "### What happened? \n",
    "\n",
    "We created a matrix. We then transformed the matrix in a data frame using the as.data.frame function. \n",
    "We then named the columns of A, being V1, V2, V3. Finally, we substituted the first column with three new elements, 'u', 'c','sd'. By doing so, the final result is still the original matrix where V2 and V3 are numeric but the first column contains strings!\n",
    "\n",
    "- A list instead is a general object which can contain different objects inside. Let's see an example: "
   ]
  },
  {
   "cell_type": "code",
   "execution_count": 11,
   "metadata": {},
   "outputs": [
    {
     "data": {
      "text/html": [
       "<ol>\n",
       "\t<li><ol class=list-inline>\n",
       "\t<li>1</li>\n",
       "\t<li>2</li>\n",
       "\t<li>3</li>\n",
       "</ol>\n",
       "</li>\n",
       "\t<li><ol class=list-inline>\n",
       "\t<li>4</li>\n",
       "\t<li>5</li>\n",
       "\t<li>6</li>\n",
       "</ol>\n",
       "</li>\n",
       "\t<li><ol class=list-inline>\n",
       "\t<li>7</li>\n",
       "\t<li>8</li>\n",
       "\t<li>9</li>\n",
       "</ol>\n",
       "</li>\n",
       "</ol>\n"
      ],
      "text/latex": [
       "\\begin{enumerate}\n",
       "\\item \\begin{enumerate*}\n",
       "\\item 1\n",
       "\\item 2\n",
       "\\item 3\n",
       "\\end{enumerate*}\n",
       "\n",
       "\\item \\begin{enumerate*}\n",
       "\\item 4\n",
       "\\item 5\n",
       "\\item 6\n",
       "\\end{enumerate*}\n",
       "\n",
       "\\item \\begin{enumerate*}\n",
       "\\item 7\n",
       "\\item 8\n",
       "\\item 9\n",
       "\\end{enumerate*}\n",
       "\n",
       "\\end{enumerate}\n"
      ],
      "text/markdown": [
       "1. 1. 1\n",
       "2. 2\n",
       "3. 3\n",
       "\n",
       "\n",
       "\n",
       "2. 1. 4\n",
       "2. 5\n",
       "3. 6\n",
       "\n",
       "\n",
       "\n",
       "3. 1. 7\n",
       "2. 8\n",
       "3. 9\n",
       "\n",
       "\n",
       "\n",
       "\n",
       "\n"
      ],
      "text/plain": [
       "[[1]]\n",
       "[1] 1 2 3\n",
       "\n",
       "[[2]]\n",
       "[1] 4 5 6\n",
       "\n",
       "[[3]]\n",
       "[1] 7 8 9\n"
      ]
     },
     "metadata": {},
     "output_type": "display_data"
    }
   ],
   "source": [
    "A <- list()\n",
    "A[[1]] <- c(1:3)\n",
    "A[[2]] <- c(4:6)\n",
    "A[[3]] <- c(7:9)\n",
    "A"
   ]
  },
  {
   "cell_type": "markdown",
   "metadata": {},
   "source": [
    "### What happened? \n",
    "\n",
    "We created a list and filled each entry (first, second and third). To fill entries you need to use the [[]] syntax.\n",
    "Throughout our discussion we will mostly focus on matrices and data frame. "
   ]
  },
  {
   "cell_type": "markdown",
   "metadata": {},
   "source": [
    "###  $ sign: using the dollar we can take elements within lists for example:\n",
    "\n",
    "- What does the dollar sign mean? Let see an example from class"
   ]
  },
  {
   "cell_type": "code",
   "execution_count": 1,
   "metadata": {},
   "outputs": [],
   "source": [
    "## Open the forestfirest file \n",
    "forest.fires <- read.csv('https://raw.githubusercontent.com/dviviano/ECON178_TA/master/data/forestfires.csv')\n",
    "## Take from the file forest.fires the variable named area\n",
    "y <- forest.fires$area"
   ]
  },
  {
   "cell_type": "markdown",
   "metadata": {},
   "source": [
    "The dollar sign exctract the element with name area from a list (in this case a data frame). Notice that the dollar sign only works with list and not with matrices or vectors! Let's see another example. "
   ]
  },
  {
   "cell_type": "code",
   "execution_count": 4,
   "metadata": {},
   "outputs": [
    {
     "name": "stdout",
     "output_type": "stream",
     "text": [
      "  V1 V2 V3\n",
      "1  1  4  7\n",
      "2  2  5  8\n",
      "3  3  6  9\n"
     ]
    }
   ],
   "source": [
    "A <- matrix(c(1:9), nrow = 3, ncol = 3)\n",
    "## Transform A into a data frame\n",
    "A <- as.data.frame(A)\n",
    "## Give names to columns of A \n",
    "names(A) <- c('V1', 'V2', 'V3')\n",
    "## Look at A\n",
    "print(A)"
   ]
  },
  {
   "cell_type": "code",
   "execution_count": 5,
   "metadata": {},
   "outputs": [
    {
     "data": {
      "text/html": [
       "<ol class=list-inline>\n",
       "\t<li>1</li>\n",
       "\t<li>2</li>\n",
       "\t<li>3</li>\n",
       "</ol>\n"
      ],
      "text/latex": [
       "\\begin{enumerate*}\n",
       "\\item 1\n",
       "\\item 2\n",
       "\\item 3\n",
       "\\end{enumerate*}\n"
      ],
      "text/markdown": [
       "1. 1\n",
       "2. 2\n",
       "3. 3\n",
       "\n",
       "\n"
      ],
      "text/plain": [
       "[1] 1 2 3"
      ]
     },
     "metadata": {},
     "output_type": "display_data"
    }
   ],
   "source": [
    "## Now we exctract the first column\n",
    "A$V1"
   ]
  },
  {
   "cell_type": "code",
   "execution_count": 6,
   "metadata": {},
   "outputs": [
    {
     "ename": "ERROR",
     "evalue": "Error in A$V1: $ operator is invalid for atomic vectors\n",
     "output_type": "error",
     "traceback": [
      "Error in A$V1: $ operator is invalid for atomic vectors\nTraceback:\n"
     ]
    }
   ],
   "source": [
    "### Can we do with matrices? \n",
    "\n",
    "## Bring A to be a matrix (not data.frame) again\n",
    "A <- as.matrix(A)\n",
    "A$V1"
   ]
  },
  {
   "cell_type": "markdown",
   "metadata": {},
   "source": [
    "An error is thrown since you cannot exctract elements from matrices but only from list"
   ]
  },
  {
   "cell_type": "markdown",
   "metadata": {},
   "source": [
    "### Exercises from class "
   ]
  },
  {
   "cell_type": "code",
   "execution_count": 12,
   "metadata": {},
   "outputs": [
    {
     "data": {
      "text/plain": [
       "\n",
       "Call:\n",
       "lm(formula = area ~ temp + wind + rain + day + month, data = forest.fires)\n",
       "\n",
       "Residuals:\n",
       "    Min      1Q  Median      3Q     Max \n",
       " -45.50  -15.46   -8.01    0.64 1050.40 \n",
       "\n",
       "Coefficients:\n",
       "            Estimate Std. Error t value Pr(>|t|)  \n",
       "(Intercept) -26.7401    25.8420  -1.035   0.3013  \n",
       "temp          1.4998     0.6782   2.212   0.0275 *\n",
       "wind          1.9887     1.7434   1.141   0.2546  \n",
       "rain         -2.7063     9.6926  -0.279   0.7802  \n",
       "daymon        7.2646    10.4183   0.697   0.4859  \n",
       "daysat       21.3027    10.0357   2.123   0.0343 *\n",
       "daysun        5.8056     9.7215   0.597   0.5507  \n",
       "daythu       11.5690    10.9515   1.056   0.2913  \n",
       "daytue        7.9059    10.8488   0.729   0.4665  \n",
       "daywed        5.4513    11.3772   0.479   0.6320  \n",
       "monthaug     -9.9727    22.8453  -0.437   0.6626  \n",
       "monthdec     11.4417    31.1093   0.368   0.7132  \n",
       "monthfeb      2.9437    25.9268   0.114   0.9097  \n",
       "monthjan      1.3344    50.7041   0.026   0.9790  \n",
       "monthjul     -9.6792    25.2222  -0.384   0.7013  \n",
       "monthjun    -13.8577    27.0486  -0.512   0.6087  \n",
       "monthmar     -6.9159    23.1904  -0.298   0.7657  \n",
       "monthmay      4.5064    50.3496   0.090   0.9287  \n",
       "monthnov     -7.8131    68.0906  -0.115   0.9087  \n",
       "monthoct     -8.2799    27.4045  -0.302   0.7627  \n",
       "monthsep      0.2729    22.6294   0.012   0.9904  \n",
       "---\n",
       "Signif. codes:  0 ‘***’ 0.001 ‘**’ 0.01 ‘*’ 0.05 ‘.’ 0.1 ‘ ’ 1\n",
       "\n",
       "Residual standard error: 64.04 on 496 degrees of freedom\n",
       "Multiple R-squared:  0.02706,\tAdjusted R-squared:  -0.01218 \n",
       "F-statistic: 0.6897 on 20 and 496 DF,  p-value: 0.838\n"
      ]
     },
     "metadata": {},
     "output_type": "display_data"
    }
   ],
   "source": [
    "## Exercise 1: Run the regression \n",
    "\n",
    "reg2 <- lm(area ~ temp + wind + rain + day + month, data = forest.fires)\n",
    "summary(reg2)"
   ]
  },
  {
   "cell_type": "markdown",
   "metadata": {},
   "source": [
    "### Note!\n",
    "\n",
    "- Each month and day is a different variable: R recognize that such variables are not numeric, but multi-level factors and automatically introduce additional dummies for each day and month. \n"
   ]
  },
  {
   "cell_type": "code",
   "execution_count": 16,
   "metadata": {},
   "outputs": [
    {
     "data": {
      "text/html": [
       "3934.8036608461"
      ],
      "text/latex": [
       "3934.8036608461"
      ],
      "text/markdown": [
       "3934.8036608461"
      ],
      "text/plain": [
       "[1] 3934.804"
      ]
     },
     "metadata": {},
     "output_type": "display_data"
    }
   ],
   "source": [
    "## MSE\n",
    "predictions2 <- predict(reg2, newdata = forest.fires)\n",
    "MSE <- mean((predictions2 - forest.fires$area)**2)\n",
    "MSE\n",
    "## MSE decreases"
   ]
  },
  {
   "cell_type": "markdown",
   "metadata": {},
   "source": [
    "### Regression with quadratic terms \n",
    "\n",
    "We now run the regression \n",
    "$$\n",
    "area = temp + temp^2 + \\varepsilon\n",
    "$$"
   ]
  },
  {
   "cell_type": "code",
   "execution_count": 18,
   "metadata": {},
   "outputs": [
    {
     "data": {
      "text/html": [
       "4005.50830876932"
      ],
      "text/latex": [
       "4005.50830876932"
      ],
      "text/markdown": [
       "4005.50830876932"
      ],
      "text/plain": [
       "[1] 4005.508"
      ]
     },
     "metadata": {},
     "output_type": "display_data"
    }
   ],
   "source": [
    "reg3 <- lm(area ~ temp + temp**2, data = forest.fires)\n",
    "## Look at MSE\n",
    "predictions3 <- predict(reg3, newdata = forest.fires)\n",
    "MSE <- mean((predictions3 - forest.fires$area)**2)\n",
    "MSE"
   ]
  },
  {
   "cell_type": "markdown",
   "metadata": {},
   "source": [
    "### Challenging exercise \n",
    "\n",
    "Note: this exercise is optional"
   ]
  },
  {
   "cell_type": "code",
   "execution_count": 26,
   "metadata": {},
   "outputs": [
    {
     "data": {
      "text/html": [
       "<ol class=list-inline>\n",
       "\t<li>1090.84</li>\n",
       "\t<li>746.28</li>\n",
       "\t<li>278.53</li>\n",
       "\t<li>212.88</li>\n",
       "\t<li>200.94</li>\n",
       "\t<li>196.48</li>\n",
       "\t<li>185.76</li>\n",
       "\t<li>174.63</li>\n",
       "\t<li>154.88</li>\n",
       "\t<li>105.66</li>\n",
       "</ol>\n"
      ],
      "text/latex": [
       "\\begin{enumerate*}\n",
       "\\item 1090.84\n",
       "\\item 746.28\n",
       "\\item 278.53\n",
       "\\item 212.88\n",
       "\\item 200.94\n",
       "\\item 196.48\n",
       "\\item 185.76\n",
       "\\item 174.63\n",
       "\\item 154.88\n",
       "\\item 105.66\n",
       "\\end{enumerate*}\n"
      ],
      "text/markdown": [
       "1. 1090.84\n",
       "2. 746.28\n",
       "3. 278.53\n",
       "4. 212.88\n",
       "5. 200.94\n",
       "6. 196.48\n",
       "7. 185.76\n",
       "8. 174.63\n",
       "9. 154.88\n",
       "10. 105.66\n",
       "\n",
       "\n"
      ],
      "text/plain": [
       " [1] 1090.84  746.28  278.53  212.88  200.94  196.48  185.76  174.63  154.88\n",
       "[10]  105.66"
      ]
     },
     "metadata": {},
     "output_type": "display_data"
    }
   ],
   "source": [
    "## Exercise 2 \n",
    "## Look at the first two values with largest outcome (see the histogram in Lecture 0)\n",
    "\n",
    "## First sort the values \n",
    "value_largest_outcome <- sort(forest.fires$area, index.return = T, decreasing = T)\n",
    "values <- value_largest_outcome$x ## Values\n",
    "values[1:10] ## Values in decreasing order: look at a subset"
   ]
  },
  {
   "cell_type": "code",
   "execution_count": 31,
   "metadata": {},
   "outputs": [
    {
     "data": {
      "image/png": "[encoded data removed]",
      "text/plain": [
       "plot without title"
      ]
     },
     "metadata": {},
     "output_type": "display_data"
    }
   ],
   "source": [
    "## Indexes: save the indexes of the units with largest outcomes \n",
    "values_index <- value_largest_outcome$ix[c(1,2)] ## Remove the first two units with largest outcome\n",
    "## Remove such units from the dataset\n",
    "new_data <- forest.fires[-values_index, ] ## Remove rows indexed by values_indexes\n",
    "## Run regression \n",
    "reg4 <- lm(area ~ temp, data = new_data)\n",
    "plot(area ~ temp, data= new_data)\n",
    "abline(reg4)"
   ]
  }
 ],
 "metadata": {
  "kernelspec": {
   "display_name": "R",
   "language": "R",
   "name": "ir"
  },
  "language_info": {
   "codemirror_mode": "r",
   "file_extension": ".r",
   "mimetype": "text/x-r-source",
   "name": "R",
   "pygments_lexer": "r",
   "version": "3.4.4"
  }
 },
 "nbformat": 4,
 "nbformat_minor": 2
}
