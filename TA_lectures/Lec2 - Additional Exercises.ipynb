{
 "cells": [
  {
   "cell_type": "markdown",
   "metadata": {},
   "source": [
    "# Lecture 2 - Additional Exercises "
   ]
  },
  {
   "cell_type": "markdown",
   "metadata": {},
   "source": [
    "## Exercise - LR and Out of Sample Prediction\n",
    "\n",
    "\n",
    "- Generate 99 independent variables uniformly distributed between -100 and 100 of size 100 observations each. \n",
    "- Generate the dependent variable y = 3 + 10*V99, where V99 is the last covariate and add some noise\n",
    "- Construct 3 models: one linear model with no variables, one with all the variables and one with only the variable V99\n",
    "- Compute the MSE of each model\n",
    "\n",
    "Hint: for the first two points code is provided below."
   ]
  },
  {
   "cell_type": "code",
   "execution_count": 1,
   "metadata": {},
   "outputs": [],
   "source": [
    "set.seed(123)\n",
    "n <- 100\n",
    "p <-  99\n",
    "x <- matrix(runif(n*p, min=-100,max=100), n , p)\n",
    "\n",
    "## Generate the output variable as a linear combination of x\n",
    "\n",
    "## With jitter() you add random noise\n",
    "y <-  jitter(3 + 10*x[,99], factor=10000)"
   ]
  },
  {
   "cell_type": "markdown",
   "metadata": {},
   "source": [
    "- Pick from your data only 1/5th random observations\n",
    "- Use the remaining 4/5th observations to rebuild the three models\n",
    "- Make prediction on the 1/5th observations\n",
    "- What do you observe now?\n",
    "\n",
    "Hint: for the first point code is provided. "
   ]
  },
  {
   "cell_type": "code",
   "execution_count": 2,
   "metadata": {},
   "outputs": [],
   "source": [
    "## Pick randomly 1/5th of observastions\n",
    "ii <- sample(nrow(x), floor(nrow(x)/5))\n",
    "\n",
    "## Built a test and training set\n",
    "\n",
    "data.te <- x[ii, ]\n",
    "data.tr <- x[-ii,]\n",
    "y.te <- y[ii]\n",
    "y.tr <- y[-ii]"
   ]
  },
  {
   "cell_type": "markdown",
   "metadata": {},
   "source": [
    "## Exercise - Part 2"
   ]
  },
  {
   "cell_type": "markdown",
   "metadata": {},
   "source": [
    "Now: \n",
    "\n",
    "- Build 99 different models including from 1 to 99 input variables on training data (4/5th observations)\n",
    "- For each model compute the out-of-sample MSE on the remaining 1/5th (test data)\n",
    "- Plot the out-of-sample MSE as a function of the number of variables\n",
    "\n",
    "Hint: you may prefer to use a for-loop.  "
   ]
  },
  {
   "cell_type": "markdown",
   "metadata": {},
   "source": [
    "## Exercise Cross Validation\n"
   ]
  },
  {
   "cell_type": "markdown",
   "metadata": {},
   "source": [
    "\n",
    "We are interested in predicting the quality of wines using chemical indicators. To do so, we have a disposal two data sets for white and red wine, reporting the variable quality on a scale from 0 to 10. \n",
    "\n",
    "- white wine data\n",
    "- Find three models you might think are meaningful for the prediction with different number of variables\n",
    "- Compute the in-sample mean squared error and the R squared\n",
    "- Compute the out-of-sample mean squared error using a test-training set approach (remember to set the seeds)\n",
    "- Compute the out-of-sample mean squared error using 10-folds cross validation\n",
    "- Which wine would you buy now?\n",
    "\n",
    "Hint: the skeleton for cross validation is provided."
   ]
  },
  {
   "cell_type": "code",
   "execution_count": 4,
   "metadata": {},
   "outputs": [],
   "source": [
    "## Skeleton      ###################################################\n",
    "\n",
    "#SEED <-\n",
    "# data <-\n",
    "#  y <-\n",
    "#  K <-\n",
    "#  \n",
    "#  \n",
    "# set.seed(SEED)\n",
    "#\n",
    "#n <- nrow(data)\n",
    "#predictions <- numeric(n)\n",
    "#\n",
    "#\n",
    "#ii <- sample(rep(1:K, length = n))\n",
    "\n",
    "#for (i in 1:K) {\n",
    "#  hold <- (ii == i)\n",
    "#  train <- (ii != i)\n",
    "  ##\n",
    "  ## Build model\n",
    "  ##\n",
    "  \n",
    "  ## Store the predictions for the left-out segment\n",
    "  # predictions[hold] <-\n",
    "#}\n",
    "## Calculate estimated MSPE\n",
    "#mean((y - predictions)^2)"
   ]
  },
  {
   "cell_type": "markdown",
   "metadata": {},
   "source": [
    "## Ridge Regression "
   ]
  },
  {
   "cell_type": "markdown",
   "metadata": {},
   "source": [
    "We are interested in predicting the level of alchol consumption during the weekend for students, controlling for many social and academic indicators. Some of them are the average grades for three years, the income of the family, the age, etc. In total we have 32 variables, but we want to find just the ones most correlated with alchol consumption. \n",
    "\n",
    "\n",
    "\n",
    "We will explore the linear mode, the ridge regression and lasso. \n",
    "\n",
    "\n",
    "\n",
    "\n",
    "Do the following:\n",
    "\n",
    "- Download the student txt file\n",
    "\n",
    "Note: the dependent variable is Walc (Week-end alchol consumption)\n"
   ]
  },
  {
   "cell_type": "code",
   "execution_count": null,
   "metadata": {},
   "outputs": [],
   "source": [
    "\n",
    "student <- read.table(\"./data/student.matG.txt\")"
   ]
  },
  {
   "cell_type": "markdown",
   "metadata": {},
   "source": [
    "- Explore the variables and construct two different linear models. You can use any specification you think is most appropriate. Provide justifications. \n",
    "- Report the interpretation of the coefficients\n",
    "\n",
    "\n",
    "Ridge Regression: \n",
    "\n",
    "- Construct a sequence of lambda from $10^{-4}$ to $10^1$  \n",
    "- Use cross validation to find the best lambda to be used for estimating ridge regression (use the skeleton provided in the hints of the previous exercises)\n",
    "- Construct a ridge regression with the lambda with minimum error\n",
    "\n",
    "Hint: Code for the first two points is provided. \n",
    "\n",
    "\n",
    "Model comparison: \n",
    "\n",
    "- Use cross validation to compare the linear models that you choose and the ridge regression.\n",
    "- Do you think it is the correct way to compare the models?\n",
    "\n",
    "\n"
   ]
  },
  {
   "cell_type": "code",
   "execution_count": null,
   "metadata": {},
   "outputs": [],
   "source": [
    "## Hint code for the first part of the exercise\n",
    "\n",
    "## Expand matrix\n",
    "\n",
    "xm <- model.matrix(~. ,data=student[,-27])[,-1]  \n",
    "y <- student[,27]\n",
    "\n",
    "## Use this functions to standardize\n",
    "\n",
    "standard_for_dummy <- function (k){ if (length(k[!duplicated(k)])==2)\n",
    "{ return(1)}                               \n",
    "return(sd(k))                                                      }\n",
    "\n",
    "sd.tr <- apply(xm, 2, standard_for_dummy) \n",
    "\n",
    "mu_for_dummy <- function (k){ if (length(k[!duplicated(k)])==2)\n",
    "{ return(0.5)}                               \n",
    "mean(k)      }\n",
    "\n",
    "mu.tr <-apply(xm, 2, mu_for_dummy) \n",
    "\n",
    "## New covariate matrix\n",
    "\n",
    "\n",
    "xmn <- scale(xm, center = mu.tr, scale=sd.tr)\n",
    "\n",
    "## Set your lambda \n",
    "\n",
    "lambdas.rr <- exp(seq(-4, 4, length=50))"
   ]
  }
 ],
 "metadata": {
  "kernelspec": {
   "display_name": "R",
   "language": "R",
   "name": "ir"
  },
  "language_info": {
   "codemirror_mode": "r",
   "file_extension": ".r",
   "mimetype": "text/x-r-source",
   "name": "R",
   "pygments_lexer": "r",
   "version": "3.4.4"
  }
 },
 "nbformat": 4,
 "nbformat_minor": 2
}
