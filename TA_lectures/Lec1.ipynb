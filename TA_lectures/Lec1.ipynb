{
 "cells": [
  {
   "cell_type": "markdown",
   "metadata": {},
   "source": [
    "## Lecture 2"
   ]
  },
  {
   "cell_type": "markdown",
   "metadata": {},
   "source": [
    "## Matrix Operations - Review "
   ]
  },
  {
   "cell_type": "markdown",
   "metadata": {},
   "source": [
    "### We first construct our matrices "
   ]
  },
  {
   "cell_type": "code",
   "execution_count": 27,
   "metadata": {},
   "outputs": [
    {
     "data": {
      "text/html": [
       "<table>\n",
       "<tbody>\n",
       "\t<tr><td>1</td><td>3</td></tr>\n",
       "\t<tr><td>2</td><td>4</td></tr>\n",
       "</tbody>\n",
       "</table>\n"
      ],
      "text/latex": [
       "\\begin{tabular}{ll}\n",
       "\t 1 & 3\\\\\n",
       "\t 2 & 4\\\\\n",
       "\\end{tabular}\n"
      ],
      "text/markdown": [
       "\n",
       "| 1 | 3 | \n",
       "| 2 | 4 | \n",
       "\n",
       "\n"
      ],
      "text/plain": [
       "     [,1] [,2]\n",
       "[1,] 1    3   \n",
       "[2,] 2    4   "
      ]
     },
     "metadata": {},
     "output_type": "display_data"
    }
   ],
   "source": [
    "A <- matrix(c(1:4), nrow = 2, ncol = 2)\n",
    "head(A)"
   ]
  },
  {
   "cell_type": "code",
   "execution_count": 28,
   "metadata": {},
   "outputs": [
    {
     "data": {
      "text/html": [
       "<table>\n",
       "<tbody>\n",
       "\t<tr><td>6</td><td>8</td></tr>\n",
       "\t<tr><td>7</td><td>9</td></tr>\n",
       "</tbody>\n",
       "</table>\n"
      ],
      "text/latex": [
       "\\begin{tabular}{ll}\n",
       "\t 6 & 8\\\\\n",
       "\t 7 & 9\\\\\n",
       "\\end{tabular}\n"
      ],
      "text/markdown": [
       "\n",
       "| 6 | 8 | \n",
       "| 7 | 9 | \n",
       "\n",
       "\n"
      ],
      "text/plain": [
       "     [,1] [,2]\n",
       "[1,] 6    8   \n",
       "[2,] 7    9   "
      ]
     },
     "metadata": {},
     "output_type": "display_data"
    }
   ],
   "source": [
    "B <- matrix(c(6:9), nrow = 2, ncol = 2)\n",
    "head(B)"
   ]
  },
  {
   "cell_type": "markdown",
   "metadata": {},
   "source": [
    "### Multiply Matrices "
   ]
  },
  {
   "cell_type": "code",
   "execution_count": 29,
   "metadata": {},
   "outputs": [],
   "source": [
    "C = A*B ## Component wise multiplication"
   ]
  },
  {
   "cell_type": "markdown",
   "metadata": {},
   "source": [
    "The above expression performs a component wise operation: \n",
    "$$\n",
    "C_{i,j} = A_{i,j} \\times  B_{i,j}\n",
    "$$\n",
    "\n",
    "Note: this is different from the results obtained from matrix multiplication!"
   ]
  },
  {
   "cell_type": "code",
   "execution_count": 30,
   "metadata": {},
   "outputs": [
    {
     "data": {
      "text/html": [
       "<table>\n",
       "<tbody>\n",
       "\t<tr><td> 6</td><td>24</td></tr>\n",
       "\t<tr><td>14</td><td>36</td></tr>\n",
       "</tbody>\n",
       "</table>\n"
      ],
      "text/latex": [
       "\\begin{tabular}{ll}\n",
       "\t  6 & 24\\\\\n",
       "\t 14 & 36\\\\\n",
       "\\end{tabular}\n"
      ],
      "text/markdown": [
       "\n",
       "|  6 | 24 | \n",
       "| 14 | 36 | \n",
       "\n",
       "\n"
      ],
      "text/plain": [
       "     [,1] [,2]\n",
       "[1,]  6   24  \n",
       "[2,] 14   36  "
      ]
     },
     "metadata": {},
     "output_type": "display_data"
    }
   ],
   "source": [
    "head(C)"
   ]
  },
  {
   "cell_type": "markdown",
   "metadata": {},
   "source": [
    "### Trasponse: flips the matrix over the diagonal"
   ]
  },
  {
   "cell_type": "code",
   "execution_count": 31,
   "metadata": {},
   "outputs": [
    {
     "data": {
      "text/html": [
       "<table>\n",
       "<tbody>\n",
       "\t<tr><td> 6</td><td>14</td></tr>\n",
       "\t<tr><td>24</td><td>36</td></tr>\n",
       "</tbody>\n",
       "</table>\n"
      ],
      "text/latex": [
       "\\begin{tabular}{ll}\n",
       "\t  6 & 14\\\\\n",
       "\t 24 & 36\\\\\n",
       "\\end{tabular}\n"
      ],
      "text/markdown": [
       "\n",
       "|  6 | 14 | \n",
       "| 24 | 36 | \n",
       "\n",
       "\n"
      ],
      "text/plain": [
       "     [,1] [,2]\n",
       "[1,]  6   14  \n",
       "[2,] 24   36  "
      ]
     },
     "metadata": {},
     "output_type": "display_data"
    }
   ],
   "source": [
    "head(t(C))"
   ]
  },
  {
   "cell_type": "markdown",
   "metadata": {},
   "source": [
    "### Matrix Multiplication\n",
    "\n"
   ]
  },
  {
   "cell_type": "code",
   "execution_count": 32,
   "metadata": {},
   "outputs": [
    {
     "data": {
      "text/html": [
       "<table>\n",
       "<tbody>\n",
       "\t<tr><td>27</td><td>35</td></tr>\n",
       "\t<tr><td>40</td><td>52</td></tr>\n",
       "</tbody>\n",
       "</table>\n"
      ],
      "text/latex": [
       "\\begin{tabular}{ll}\n",
       "\t 27 & 35\\\\\n",
       "\t 40 & 52\\\\\n",
       "\\end{tabular}\n"
      ],
      "text/markdown": [
       "\n",
       "| 27 | 35 | \n",
       "| 40 | 52 | \n",
       "\n",
       "\n"
      ],
      "text/plain": [
       "     [,1] [,2]\n",
       "[1,] 27   35  \n",
       "[2,] 40   52  "
      ]
     },
     "metadata": {},
     "output_type": "display_data"
    }
   ],
   "source": [
    "C = A%*%B\n",
    "head(C)"
   ]
  },
  {
   "cell_type": "markdown",
   "metadata": {},
   "source": [
    "It is not commutative! What if we invert the order of B and A? "
   ]
  },
  {
   "cell_type": "code",
   "execution_count": 33,
   "metadata": {},
   "outputs": [
    {
     "data": {
      "text/html": [
       "<table>\n",
       "<tbody>\n",
       "\t<tr><td>22</td><td>50</td></tr>\n",
       "\t<tr><td>25</td><td>57</td></tr>\n",
       "</tbody>\n",
       "</table>\n"
      ],
      "text/latex": [
       "\\begin{tabular}{ll}\n",
       "\t 22 & 50\\\\\n",
       "\t 25 & 57\\\\\n",
       "\\end{tabular}\n"
      ],
      "text/markdown": [
       "\n",
       "| 22 | 50 | \n",
       "| 25 | 57 | \n",
       "\n",
       "\n"
      ],
      "text/plain": [
       "     [,1] [,2]\n",
       "[1,] 22   50  \n",
       "[2,] 25   57  "
      ]
     },
     "metadata": {},
     "output_type": "display_data"
    }
   ],
   "source": [
    "B%*%A"
   ]
  },
  {
   "cell_type": "markdown",
   "metadata": {},
   "source": [
    "### Additional Examples"
   ]
  },
  {
   "cell_type": "code",
   "execution_count": 34,
   "metadata": {},
   "outputs": [
    {
     "name": "stdout",
     "output_type": "stream",
     "text": [
      "     [,1] [,2]\n",
      "[1,]    6    9\n",
      "[2,]    7   10\n",
      "[3,]    8   11\n"
     ]
    }
   ],
   "source": [
    "A <- matrix(c(1:4), nrow = 2, ncol = 2)\n",
    "B <- matrix(c(6:11), nrow = 3, ncol = 2)\n",
    "print(B)"
   ]
  },
  {
   "cell_type": "markdown",
   "metadata": {},
   "source": [
    "How do we multiply these two matrices? "
   ]
  },
  {
   "cell_type": "code",
   "execution_count": 35,
   "metadata": {},
   "outputs": [
    {
     "ename": "ERROR",
     "evalue": "Error in A %*% B: non-conformable arguments\n",
     "output_type": "error",
     "traceback": [
      "Error in A %*% B: non-conformable arguments\nTraceback:\n"
     ]
    }
   ],
   "source": [
    "A%*%B"
   ]
  },
  {
   "cell_type": "code",
   "execution_count": 36,
   "metadata": {},
   "outputs": [
    {
     "data": {
      "text/html": [
       "<table>\n",
       "<tbody>\n",
       "\t<tr><td>24</td><td>54</td></tr>\n",
       "\t<tr><td>27</td><td>61</td></tr>\n",
       "\t<tr><td>30</td><td>68</td></tr>\n",
       "</tbody>\n",
       "</table>\n"
      ],
      "text/latex": [
       "\\begin{tabular}{ll}\n",
       "\t 24 & 54\\\\\n",
       "\t 27 & 61\\\\\n",
       "\t 30 & 68\\\\\n",
       "\\end{tabular}\n"
      ],
      "text/markdown": [
       "\n",
       "| 24 | 54 | \n",
       "| 27 | 61 | \n",
       "| 30 | 68 | \n",
       "\n",
       "\n"
      ],
      "text/plain": [
       "     [,1] [,2]\n",
       "[1,] 24   54  \n",
       "[2,] 27   61  \n",
       "[3,] 30   68  "
      ]
     },
     "metadata": {},
     "output_type": "display_data"
    }
   ],
   "source": [
    "B%*%A"
   ]
  },
  {
   "cell_type": "markdown",
   "metadata": {},
   "source": [
    "## Linear model: review\n",
    "\n",
    "\n",
    "Y is a vector of response variables: \n",
    "$\\rightarrow Y = (y_1, y_2, ... , y_n)$\n",
    "\n",
    "**X** is a vector of explanatory variables. \n",
    "$\\rightarrow$ Data: $(y_1, x_1), (y_2, x_2), ... , (y_n, x_n)$ \n",
    "\n",
    "\n",
    "\n",
    "$$y_i = f(x_i) + \\epsilon_i$$  \n",
    "\n",
    "for some unknown function $f$. \n",
    "\n",
    "\n",
    "First approach to approximate $f$ with $\\hat{f}$: \n",
    "\n",
    "$$\n",
    "\\underset{f}{argmin}{E[(Y - f(\\textbf{X}))^2]} = E[Y|\\textbf{X}]\n",
    "$$\n",
    " \n",
    " \n",
    "In a linear model with a single variable: \n",
    "\n",
    "$$\n",
    "y_i = \\beta_0 + \\beta_1 x_i + \\epsilon_i\n",
    "$$\n",
    "\n",
    "if $E[\\epsilon_i | x_i ] = 0$ then: \n",
    "\n",
    "$$\n",
    "E[y_i | x_i] = \\beta_0 + \\beta_1 x_i \n",
    "$$    \n",
    "\n",
    "**Estimation of the coefficients**\n",
    "\n",
    "Objective function:\n",
    "\n",
    "$$\n",
    "\\underset{\\beta_0, \\beta_1}{argmin}{\\sum_{i=1}^n(y_i - \\beta_0 - \\beta_1x_i)^2}  \n",
    "$$\n",
    "\n",
    "<img src=\"./image/ConvexBeta.png\" width=\"700\" height=\"300\" alt=\"This is alternate text\">\n",
    "\n",
    "### Matrix notation\n",
    "\n",
    "<br />\n",
    "\n",
    "Y is a vector of response variables: \n",
    "$\\rightarrow Y = (y_1, y_2, ... , y_n)$ \n",
    "\n",
    "\n",
    "\n",
    "X is a N x K matrix of explanatory variables: \n",
    "\n",
    "$$\n",
    "X=\n",
    "  \\begin{bmatrix}\n",
    "    1 & ... & \\textbf{X}_1 & ...   \\\\\n",
    "    1 & ... & \\textbf{X}_2 & ...   \\\\\n",
    "    : & ... & \\textbf{X}_3 & ... \\\\\n",
    "    1 & ... & \\textbf{X}_n & ...  \\\\\n",
    "  \\end{bmatrix}\n",
    "$$\n",
    "\n",
    "$\\hat{f}(X): \\mathbb{R}^k \\rightarrow \\mathbb{R}$\n",
    "\n",
    "Linear model: $E[Y|X] = \\beta_0  + \\beta_1 x_{1,i} + ... + \\beta_k x_{k,i} = X\\beta$\n",
    "\n",
    "<br />\n",
    "\n",
    "Objective function: \n",
    "\n",
    "$$\n",
    "  RSS(\\beta) = {(Y - X \\beta)'(Y-X\\beta)}  \n",
    "$$\n",
    "\n",
    "\n",
    "\n",
    "To find the minimum of the objective function: \n",
    "\n",
    "$$\n",
    " \\frac{\\partial RSS(\\beta)}{\\partial \\beta} = 0 \\Rightarrow \\hat{\\beta}^{OLS} = (X^TX)^{-1}(X^TY)\n",
    "$$\n",
    "\n",
    "\n"
   ]
  },
  {
   "cell_type": "markdown",
   "metadata": {},
   "source": [
    "### Example"
   ]
  },
  {
   "cell_type": "code",
   "execution_count": 64,
   "metadata": {},
   "outputs": [
    {
     "data": {
      "text/html": [
       "<table>\n",
       "<tbody>\n",
       "\t<tr><td>-0.56047565</td><td>-0.71040656</td><td> 2.1988103 </td></tr>\n",
       "\t<tr><td>-0.23017749</td><td> 0.25688371</td><td> 1.3124130 </td></tr>\n",
       "\t<tr><td> 1.55870831</td><td>-0.24669188</td><td>-0.2651451 </td></tr>\n",
       "\t<tr><td> 0.07050839</td><td>-0.34754260</td><td> 0.5431941 </td></tr>\n",
       "\t<tr><td> 0.12928774</td><td>-0.95161857</td><td>-0.4143399 </td></tr>\n",
       "\t<tr><td> 1.71506499</td><td>-0.04502772</td><td>-0.4762469 </td></tr>\n",
       "</tbody>\n",
       "</table>\n"
      ],
      "text/latex": [
       "\\begin{tabular}{lll}\n",
       "\t -0.56047565 & -0.71040656 &  2.1988103 \\\\\n",
       "\t -0.23017749 &  0.25688371 &  1.3124130 \\\\\n",
       "\t  1.55870831 & -0.24669188 & -0.2651451 \\\\\n",
       "\t  0.07050839 & -0.34754260 &  0.5431941 \\\\\n",
       "\t  0.12928774 & -0.95161857 & -0.4143399 \\\\\n",
       "\t  1.71506499 & -0.04502772 & -0.4762469 \\\\\n",
       "\\end{tabular}\n"
      ],
      "text/markdown": [
       "\n",
       "| -0.56047565 | -0.71040656 |  2.1988103  | \n",
       "| -0.23017749 |  0.25688371 |  1.3124130  | \n",
       "|  1.55870831 | -0.24669188 | -0.2651451  | \n",
       "|  0.07050839 | -0.34754260 |  0.5431941  | \n",
       "|  0.12928774 | -0.95161857 | -0.4143399  | \n",
       "|  1.71506499 | -0.04502772 | -0.4762469  | \n",
       "\n",
       "\n"
      ],
      "text/plain": [
       "     [,1]        [,2]        [,3]      \n",
       "[1,] -0.56047565 -0.71040656  2.1988103\n",
       "[2,] -0.23017749  0.25688371  1.3124130\n",
       "[3,]  1.55870831 -0.24669188 -0.2651451\n",
       "[4,]  0.07050839 -0.34754260  0.5431941\n",
       "[5,]  0.12928774 -0.95161857 -0.4143399\n",
       "[6,]  1.71506499 -0.04502772 -0.4762469"
      ]
     },
     "metadata": {},
     "output_type": "display_data"
    }
   ],
   "source": [
    "## Generate a matrix X\n",
    "set.seed(123)\n",
    "X <- matrix(rnorm(300), nrow = 100, ncol = 3)\n",
    "head(X)"
   ]
  },
  {
   "cell_type": "code",
   "execution_count": 65,
   "metadata": {},
   "outputs": [
    {
     "data": {
      "image/png": "[encoded data removed]",
      "text/plain": [
       "plot without title"
      ]
     },
     "metadata": {},
     "output_type": "display_data"
    }
   ],
   "source": [
    "## Generate Y\n",
    "beta <- c(0,2,3)\n",
    "set.seed(124)\n",
    "Y <- X%*%beta + rnorm(100)\n",
    "## Plot in a scatter plot \n",
    "## Look at the first coordinate \n",
    "plot(Y ~ X[,1])"
   ]
  },
  {
   "cell_type": "markdown",
   "metadata": {},
   "source": [
    "### Comment: \n",
    "\n",
    "- From the previous plot it seems that there is no strong relation between the first coordinate of X and Y\n",
    "\n",
    "We now look at the third coordinate. What do you think? "
   ]
  },
  {
   "cell_type": "code",
   "execution_count": 66,
   "metadata": {},
   "outputs": [
    {
     "data": {
      "image/png": "[encoded data removed]",
      "text/plain": [
       "plot without title"
      ]
     },
     "metadata": {},
     "output_type": "display_data"
    }
   ],
   "source": [
    "## Look at the third coordinate\n",
    "plot(Y ~ X[,3])"
   ]
  },
  {
   "cell_type": "markdown",
   "metadata": {},
   "source": [
    "### Estimate OLS"
   ]
  },
  {
   "cell_type": "code",
   "execution_count": 68,
   "metadata": {},
   "outputs": [
    {
     "data": {
      "text/html": [
       "<table>\n",
       "<thead><tr><th scope=col></th><th scope=col>beta</th></tr></thead>\n",
       "<tbody>\n",
       "\t<tr><td>0.1075062</td><td>0        </td></tr>\n",
       "\t<tr><td>1.9856998</td><td>2        </td></tr>\n",
       "\t<tr><td>3.0120122</td><td>3        </td></tr>\n",
       "</tbody>\n",
       "</table>\n"
      ],
      "text/latex": [
       "\\begin{tabular}{ll}\n",
       "  & beta\\\\\n",
       "\\hline\n",
       "\t 0.1075062 & 0        \\\\\n",
       "\t 1.9856998 & 2        \\\\\n",
       "\t 3.0120122 & 3        \\\\\n",
       "\\end{tabular}\n"
      ],
      "text/markdown": [
       "\n",
       " | beta | \n",
       "|---|---|---|\n",
       "| 0.1075062 | 0         | \n",
       "| 1.9856998 | 2         | \n",
       "| 3.0120122 | 3         | \n",
       "\n",
       "\n"
      ],
      "text/plain": [
       "               beta\n",
       "[1,] 0.1075062 0   \n",
       "[2,] 1.9856998 2   \n",
       "[3,] 3.0120122 3   "
      ]
     },
     "metadata": {},
     "output_type": "display_data"
    }
   ],
   "source": [
    "beta_hat  = solve(t(X)%*%X, t(X)%*%Y)\n",
    "cbind(beta_hat, beta)"
   ]
  },
  {
   "cell_type": "markdown",
   "metadata": {},
   "source": [
    "### Recap Previous Lecture"
   ]
  },
  {
   "cell_type": "code",
   "execution_count": 2,
   "metadata": {},
   "outputs": [
    {
     "data": {
      "text/plain": [
       "\n",
       "Call:\n",
       "lm(formula = area ~ temp, data = forest.fires)\n",
       "\n",
       "Residuals:\n",
       "    Min      1Q  Median      3Q     Max \n",
       " -27.34  -14.68  -10.39   -3.42 1071.33 \n",
       "\n",
       "Coefficients:\n",
       "            Estimate Std. Error t value Pr(>|t|)  \n",
       "(Intercept)  -7.4138     9.4996  -0.780   0.4355  \n",
       "temp          1.0726     0.4808   2.231   0.0261 *\n",
       "---\n",
       "Signif. codes:  0 ‘***’ 0.001 ‘**’ 0.01 ‘*’ 0.05 ‘.’ 0.1 ‘ ’ 1\n",
       "\n",
       "Residual standard error: 63.41 on 515 degrees of freedom\n",
       "Multiple R-squared:  0.009573,\tAdjusted R-squared:  0.00765 \n",
       "F-statistic: 4.978 on 1 and 515 DF,  p-value: 0.0261\n"
      ]
     },
     "metadata": {},
     "output_type": "display_data"
    },
    {
     "name": "stdout",
     "output_type": "stream",
     "text": [
      "[1] \"MSE is:\"\n",
      "[1] 4005.508 3935.422\n"
     ]
    }
   ],
   "source": [
    "## Open the forestfirest file \n",
    "forest.fires <- read.csv('https://raw.githubusercontent.com/dviviano/ECON178_TA/master/data/forestfires.csv')\n",
    "reg1 <- lm(area ~ temp, data=forest.fires)\n",
    "summary(reg1)\n",
    "\n",
    "## Estimate prediction error \n",
    "\n",
    "MSE <- mean((predict(reg1, newdata = forest.fires) - forest.fires$area)**2)\n",
    "## Include more variables\n",
    "reg2 <- lm(area ~ temp + wind + day + month, data=forest.fires)\n",
    "\n",
    "MSE2 <- mean((predict(reg2, newdata = forest.fires) - forest.fires$area)**2)\n",
    "\n",
    "print('MSE is:')\n",
    "print(c(MSE, MSE2))"
   ]
  },
  {
   "cell_type": "markdown",
   "metadata": {},
   "source": [
    "### Goodness of fit\n",
    "\n",
    "$$\n",
    "\\begin{equation}\n",
    "    \\nonumber\n",
    "MSE = \\frac{1}{N} \\sum_{i=1}^n (y_i - \\hat{y}_i)^2\n",
    "\\end{equation}\n",
    "$$\n",
    "\n",
    "$$\n",
    "\\begin{equation}\n",
    "    \\nonumber\n",
    "R^2=  1- \\frac{\\sum_{i=1}^n (y_i - \\hat{y}_i)^2}{\\sum_{i=1}^n (y_i - \\bar{y})^2} \n",
    "\\end{equation}\n",
    "$$\n",
    "\n",
    "The $R^2$ reports the in-sample variance explained by the model. The higher the value the more the in-sample fit.\n",
    "\n",
    "**Note:MSE Always decreases as we include variables. Why?**\n"
   ]
  },
  {
   "cell_type": "markdown",
   "metadata": {},
   "source": [
    "### Better measure of predictive performance? \n",
    "\n",
    "1. Adjusted R-squred \n",
    "\n",
    "$$\n",
    "\\begin{equation}\n",
    "    \\nonumber\n",
    "Adj. R^2=  1- \\frac{n-1}{n-k-1}\\frac{\\sum_{i=1}^n (y_i - \\hat{y}_i)^2}{\\sum_{i=1}^n (y_i - \\bar{y})^2} \n",
    "\\end{equation}\n",
    "$$\n",
    "\n",
    "2. Out of sample prediction; \n",
    "3. ... ."
   ]
  },
  {
   "cell_type": "markdown",
   "metadata": {},
   "source": [
    "## Note: the following material has not been covered in class\n",
    "\n",
    "## It will be covered in the next TA session"
   ]
  },
  {
   "cell_type": "markdown",
   "metadata": {},
   "source": [
    "\n",
    "## Class Exercise 1\n",
    "\n",
    "We want to predict which variable are the most correlated with the balance in a bank account. \n",
    "\n",
    "To do so we use the credit data set (Dua, D. and Graff, C. (2019). UCI Machine Learning Repository). \n",
    "You can find the link of the data online:\n",
    "\n",
    "\n",
    "\n",
    "- Open the dataset\n",
    "- Investigate the dimension fo the dataset and the variables at disposal\n",
    "- Construct a univariate regression with Balance as a function of Income\n",
    "\n",
    "\n",
    "\n",
    "\n",
    "\n",
    "\n",
    "- Plot a scatter plot of the regression (Hint: use abline() to draw the regression line)\n",
    "- Look at the significance of the coefficients\n",
    "- Write down their interpretation\n",
    "\n",
    "\n",
    "\n",
    "- Construct a new model including a variable you might think it is important\n",
    "- Predict the Balance account with the model and compute the in-sample mean squared error>\n",
    "- Repeat the process including 3, 4, 5, 8, 10 variables and draw the MSE as a function of the number of variables. Make the same plot for the R squared of each regression. What do you notice in both cases? \n",
    "\n",
    "## Class Exercise 2\n",
    "\n",
    "\n",
    "- Pick randomly 4/5th observations from your dataset\n",
    "- Construct the two following models: \n",
    "- lm(Balance $\\sim$ Income + Limit + Married, data = data.tr)\n",
    "- lm(Balance $\\sim$ Income + Limit + Married + Gender + Ethnicity + Age + Student , data= data.tr)\n",
    "- Find the MSE on the remaining 1/5th of observations\n",
    "\n",
    "What do you notice now? \n",
    "\n",
    "\n"
   ]
  },
  {
   "cell_type": "markdown",
   "metadata": {},
   "source": [
    "### Solutions"
   ]
  },
  {
   "cell_type": "code",
   "execution_count": 4,
   "metadata": {},
   "outputs": [
    {
     "data": {
      "text/html": [
       "<ol class=list-inline>\n",
       "\t<li>400</li>\n",
       "\t<li>12</li>\n",
       "</ol>\n"
      ],
      "text/latex": [
       "\\begin{enumerate*}\n",
       "\\item 400\n",
       "\\item 12\n",
       "\\end{enumerate*}\n"
      ],
      "text/markdown": [
       "1. 400\n",
       "2. 12\n",
       "\n",
       "\n"
      ],
      "text/plain": [
       "[1] 400  12"
      ]
     },
     "metadata": {},
     "output_type": "display_data"
    },
    {
     "data": {
      "text/html": [
       "<ol class=list-inline>\n",
       "\t<li>'X'</li>\n",
       "\t<li>'Income'</li>\n",
       "\t<li>'Limit'</li>\n",
       "\t<li>'Rating'</li>\n",
       "\t<li>'Cards'</li>\n",
       "\t<li>'Age'</li>\n",
       "\t<li>'Education'</li>\n",
       "\t<li>'Gender'</li>\n",
       "\t<li>'Student'</li>\n",
       "\t<li>'Married'</li>\n",
       "\t<li>'Ethnicity'</li>\n",
       "\t<li>'Balance'</li>\n",
       "</ol>\n"
      ],
      "text/latex": [
       "\\begin{enumerate*}\n",
       "\\item 'X'\n",
       "\\item 'Income'\n",
       "\\item 'Limit'\n",
       "\\item 'Rating'\n",
       "\\item 'Cards'\n",
       "\\item 'Age'\n",
       "\\item 'Education'\n",
       "\\item 'Gender'\n",
       "\\item 'Student'\n",
       "\\item 'Married'\n",
       "\\item 'Ethnicity'\n",
       "\\item 'Balance'\n",
       "\\end{enumerate*}\n"
      ],
      "text/markdown": [
       "1. 'X'\n",
       "2. 'Income'\n",
       "3. 'Limit'\n",
       "4. 'Rating'\n",
       "5. 'Cards'\n",
       "6. 'Age'\n",
       "7. 'Education'\n",
       "8. 'Gender'\n",
       "9. 'Student'\n",
       "10. 'Married'\n",
       "11. 'Ethnicity'\n",
       "12. 'Balance'\n",
       "\n",
       "\n"
      ],
      "text/plain": [
       " [1] \"X\"         \"Income\"    \"Limit\"     \"Rating\"    \"Cards\"     \"Age\"      \n",
       " [7] \"Education\" \"Gender\"    \"Student\"   \"Married\"   \"Ethnicity\" \"Balance\"  "
      ]
     },
     "metadata": {},
     "output_type": "display_data"
    },
    {
     "data": {
      "text/plain": [
       "\n",
       "Call:\n",
       "lm(formula = Balance ~ Income, data = Credit)\n",
       "\n",
       "Residuals:\n",
       "    Min      1Q  Median      3Q     Max \n",
       "-803.64 -348.99  -54.42  331.75 1100.25 \n",
       "\n",
       "Coefficients:\n",
       "            Estimate Std. Error t value Pr(>|t|)    \n",
       "(Intercept) 246.5148    33.1993   7.425  6.9e-13 ***\n",
       "Income        6.0484     0.5794  10.440  < 2e-16 ***\n",
       "---\n",
       "Signif. codes:  0 ‘***’ 0.001 ‘**’ 0.01 ‘*’ 0.05 ‘.’ 0.1 ‘ ’ 1\n",
       "\n",
       "Residual standard error: 407.9 on 398 degrees of freedom\n",
       "Multiple R-squared:  0.215,\tAdjusted R-squared:  0.213 \n",
       "F-statistic:   109 on 1 and 398 DF,  p-value: < 2.2e-16\n"
      ]
     },
     "metadata": {},
     "output_type": "display_data"
    },
    {
     "name": "stdout",
     "output_type": "stream",
     "text": [
      "[1] 1.844398e-25\n"
     ]
    },
    {
     "data": {
      "text/plain": [
       "\n",
       "Call:\n",
       "lm(formula = Balance ~ Income + Age, data = Credit)\n",
       "\n",
       "Residuals:\n",
       "    Min      1Q  Median      3Q     Max \n",
       "-864.15 -343.51  -51.42  317.95 1076.96 \n",
       "\n",
       "Coefficients:\n",
       "            Estimate Std. Error t value Pr(>|t|)    \n",
       "(Intercept) 359.6727    70.3583   5.112 4.97e-07 ***\n",
       "Income        6.2359     0.5868  10.628  < 2e-16 ***\n",
       "Age          -2.1851     1.1988  -1.823   0.0691 .  \n",
       "---\n",
       "Signif. codes:  0 ‘***’ 0.001 ‘**’ 0.01 ‘*’ 0.05 ‘.’ 0.1 ‘ ’ 1\n",
       "\n",
       "Residual standard error: 406.7 on 397 degrees of freedom\n",
       "Multiple R-squared:  0.2215,\tAdjusted R-squared:  0.2176 \n",
       "F-statistic: 56.47 on 2 and 397 DF,  p-value: < 2.2e-16\n"
      ]
     },
     "metadata": {},
     "output_type": "display_data"
    },
    {
     "data": {
      "image/png": "[encoded data removed]",
      "text/plain": [
       "plot without title"
      ]
     },
     "metadata": {},
     "output_type": "display_data"
    }
   ],
   "source": [
    "Credit <- read.csv(\"https://raw.githubusercontent.com/dviviano/ECON178_TA/master/data/Credit.csv\")\n",
    "dim(Credit)\n",
    "names(Credit)\n",
    "reg1 <- lm(Balance ~ Income, data=Credit)\n",
    "plot(Balance ~ Income, data=Credit, col=\"green\", cex=0.7, pch=19)\n",
    "abline(reg1)\n",
    "\n",
    "summary(reg1)\n",
    "\n",
    "reg2 <- lm(Balance ~ Income + Age, data=Credit)\n",
    "y_hat <- predict(reg2, newdata= Credit)\n",
    "print(mean(Credit$Balance - y_hat)^2)\n",
    "\n",
    "summary(reg2)"
   ]
  },
  {
   "cell_type": "code",
   "execution_count": 5,
   "metadata": {},
   "outputs": [],
   "source": [
    "variables <- c(1,5,6,7,8,10,9,2,3,4)\n",
    "mse <- rep(NA, length= 8)\n",
    "r_squared <- rep(NA, length= 8)"
   ]
  },
  {
   "cell_type": "code",
   "execution_count": 6,
   "metadata": {},
   "outputs": [
    {
     "data": {
      "image/png": "[encoded data removed]",
      "text/plain": [
       "Plot with title “MSE VS Number of variables”"
      ]
     },
     "metadata": {},
     "output_type": "display_data"
    },
    {
     "data": {
      "image/png": "[encoded data removed]",
      "text/plain": [
       "Plot with title “R squared VS Number of variables”"
      ]
     },
     "metadata": {},
     "output_type": "display_data"
    }
   ],
   "source": [
    "for (i in 3:10){ \n",
    "  pick <- variables[c(1:i)]\n",
    "  data <- Credit[,c(pick)]\n",
    "  reg <- lm(Credit$Balance ~. , data= data)\n",
    "  r_squared[i-2] <- summary(reg)$r.squared\n",
    "  y_hat <- predict(reg) ## By default use data\n",
    "  mse[i-2] <-  mean((Credit$Balance - y_hat)^2)\n",
    "}\n",
    "\n",
    "## Define type\"n\" to be able then to draw a line\n",
    "\n",
    "plot(cbind(c(3:10), mse), xlab=\"Number of Variables\", ylab=\"MSE\", main=\"MSE VS Number of variables\", type=\"n\")\n",
    "lines(cbind(c(3:10), mse), col=\"red\", cex=1.2)\n",
    "plot(cbind(c(3:10), r_squared), xlab=\"Number of Variables\", ylab=\"R squared\", main=\"R squared VS Number of variables\", type=\"n\")\n",
    "lines(cbind(c(3:10), r_squared), col=\"blue\", cex=1.2)"
   ]
  },
  {
   "cell_type": "markdown",
   "metadata": {},
   "source": [
    "### Exercise 2"
   ]
  },
  {
   "cell_type": "code",
   "execution_count": 7,
   "metadata": {},
   "outputs": [
    {
     "name": "stdout",
     "output_type": "stream",
     "text": [
      "[1] 353538.7\n",
      "[1] 376461.7\n"
     ]
    }
   ],
   "source": [
    "## Set seeds to replicate the result\n",
    "\n",
    "set.seed(123)\n",
    "\n",
    "## Pick randomly 1/5th of observastions\n",
    "ii <- sample(nrow(Credit), floor(nrow(Credit)/5))\n",
    "\n",
    "## Built a test and training set\n",
    "\n",
    "data.te <- Credit[ii, ]\n",
    "data.tr <- Credit[-ii,]\n",
    "\n",
    "## Do your regressions on the training set\n",
    "reg1 <- lm(Balance ~ Income + Limit + Married, data= data.tr)\n",
    "reg2 <- lm(Balance ~ Income + Limit + Married + Gender + Ethnicity + Age + Student, data= data.tr )\n",
    "\n",
    "## Make your predictions on the test set\n",
    "\n",
    "y <- data.te$Balance\n",
    "\n",
    "\n",
    "mse1 <- mean((y - predict(reg1, data=data.te))^2)\n",
    "mse2 <- mean((y - predict(reg2, data=data.te))^2)\n",
    "print(mse1)\n",
    "print(mse2)"
   ]
  }
 ],
 "metadata": {
  "kernelspec": {
   "display_name": "R",
   "language": "R",
   "name": "ir"
  },
  "language_info": {
   "codemirror_mode": "r",
   "file_extension": ".r",
   "mimetype": "text/x-r-source",
   "name": "R",
   "pygments_lexer": "r",
   "version": "3.4.4"
  }
 },
 "nbformat": 4,
 "nbformat_minor": 2
}
